{
  "nbformat": 4,
  "nbformat_minor": 0,
  "metadata": {
    "colab": {
      "provenance": [],
      "authorship_tag": "ABX9TyOxYnZESLdUMp8i6PIjMHBb",
      "include_colab_link": true
    },
    "kernelspec": {
      "name": "python3",
      "display_name": "Python 3"
    },
    "language_info": {
      "name": "python"
    }
  },
  "cells": [
    {
      "cell_type": "markdown",
      "metadata": {
        "id": "view-in-github",
        "colab_type": "text"
      },
      "source": [
        "<a href=\"https://colab.research.google.com/github/quintasc/M3-A/blob/main/M3_UF1_Practica_print().ipynb\" target=\"_parent\"><img src=\"https://colab.research.google.com/assets/colab-badge.svg\" alt=\"Open In Colab\"/></a>"
      ]
    },
    {
      "cell_type": "markdown",
      "source": [
        "# **Ejercicio 1**\n",
        "\n",
        "---\n",
        "\n"
      ],
      "metadata": {
        "id": "0fmG3rk9MbID"
      }
    },
    {
      "cell_type": "markdown",
      "source": [
        "Escribe un programa que llame 2 veces a la función print() para mostrar en líneas separadas tu nombre completo. En la 1ra línea aparecerá el nombre y en la siguiente los apellidos."
      ],
      "metadata": {
        "id": "6khvKPpSMqmn"
      }
    },
    {
      "cell_type": "code",
      "execution_count": null,
      "metadata": {
        "id": "KLTCPFdNLR6f"
      },
      "outputs": [],
      "source": []
    },
    {
      "cell_type": "markdown",
      "source": [
        "\n",
        "# **Ejercicio 2**\n",
        "\n",
        "---\n",
        "\n"
      ],
      "metadata": {
        "id": "zMU7XJAENBXr"
      }
    },
    {
      "cell_type": "markdown",
      "source": [
        "Modifica el programa anterior para que el nombre y los apellidos se muestren en la misma línea. Sigue llamando 2 veces a la función print(). Usa el parámetro end."
      ],
      "metadata": {
        "id": "F5X6wVe1NK2j"
      }
    },
    {
      "cell_type": "code",
      "source": [],
      "metadata": {
        "id": "YkGJk7gcNVth"
      },
      "execution_count": null,
      "outputs": []
    },
    {
      "cell_type": "markdown",
      "source": [
        "# **Ejercicio 3**\n",
        "\n",
        "---\n",
        "\n"
      ],
      "metadata": {
        "id": "eCy1OoKXNWaz"
      }
    },
    {
      "cell_type": "markdown",
      "source": [
        "Con un solo print() muestra tu nombre completo de forma que entre cada palabra aparezca un guión bajo o underscore (\"_\"). Usa el parámetro sep."
      ],
      "metadata": {
        "id": "-LtdCQSmNkLj"
      }
    },
    {
      "cell_type": "code",
      "source": [],
      "metadata": {
        "id": "s8joL3LJi-Or"
      },
      "execution_count": null,
      "outputs": []
    },
    {
      "cell_type": "markdown",
      "source": [
        "# **Ejercicio 4**\n",
        "\n",
        "---\n",
        "\n"
      ],
      "metadata": {
        "id": "YKgFr9Y5jErR"
      }
    },
    {
      "cell_type": "markdown",
      "source": [
        "Modifica el programa anterior para que usando algún código de escape se muestre una palabra por línea. Sólo debes usar un print()."
      ],
      "metadata": {
        "id": "gJuJ_3iOjK-Y"
      }
    },
    {
      "cell_type": "code",
      "source": [],
      "metadata": {
        "id": "aZh2bWXLjs8W"
      },
      "execution_count": null,
      "outputs": []
    },
    {
      "cell_type": "markdown",
      "source": [
        "# **Ejercicio 5**\n",
        "\n",
        "---\n",
        "\n"
      ],
      "metadata": {
        "id": "ygA3cLQzj5on"
      }
    },
    {
      "cell_type": "markdown",
      "source": [
        "Modifica el programa anterior para añadir tu número de teléfono en una nueva línea. Sólo debes usar un print()."
      ],
      "metadata": {
        "id": "JG6whVBbkBTh"
      }
    },
    {
      "cell_type": "code",
      "source": [],
      "metadata": {
        "id": "uV87e4QRkcGU"
      },
      "execution_count": null,
      "outputs": []
    },
    {
      "cell_type": "markdown",
      "source": [
        "# **Ejercicio 6**\n",
        "\n",
        "---\n",
        "\n"
      ],
      "metadata": {
        "id": "WaSUlcL_kcxF"
      }
    },
    {
      "cell_type": "markdown",
      "source": [
        "Escribe un programa que muestre tu horario REAL de clase. El aspecto del horario debe ser similar al que se adjunta como ejemplo:\n",
        "\n",
        "\n",
        "> Bloque con sangría\n",
        "\n",
        "\n",
        "![Horario.png](data:image/png;base64,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)\n",
        "\n",
        "\n",
        "\n",
        "\n",
        "\n",
        "\n"
      ],
      "metadata": {
        "id": "kWkwFirTlznA"
      }
    }
  ]
}